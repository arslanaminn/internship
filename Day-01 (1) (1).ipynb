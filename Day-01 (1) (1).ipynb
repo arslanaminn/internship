{
 "cells": [
  {
   "cell_type": "code",
   "execution_count": 181,
   "metadata": {},
   "outputs": [],
   "source": [
    "# Data Types\n",
    "x = 5 # integer\n",
    "y = 3.14 # float\n",
    "z = \"Hello World!\" # string\n",
    "a = ['apple', 'banana', 'cherry'] # list\n",
    "b = ('apple', 'banana', 'cherry') # tuple\n",
    "c = {'name': 'John', 'age': 30} # dictionary\n",
    "d = ('1', '2', '3') # tuple\n"
   ]
  },
  {
   "cell_type": "code",
   "execution_count": 182,
   "metadata": {},
   "outputs": [
    {
     "name": "stdout",
     "output_type": "stream",
     "text": [
      "cherry\n",
      "['apple', 'mangoes', 'cherry']\n",
      "['apple', 'mangoes', 'pineapple']\n",
      "['apple', 'mangoes', 'pineapple', 'orange']\n",
      "['apple', 'mangoes', 'pineapple']\n",
      "['apple', 'mangoes', 'pineapple', 'apple']\n",
      "apple\n",
      "mangoes\n",
      "pineapple\n",
      "apple\n"
     ]
    }
   ],
   "source": [
    "#lists\n",
    "print (a[2])\n",
    "a[1]=\"mangoes\"\n",
    "print (a)\n",
    "a[2]=\"pineapple\"\n",
    "print (a)\n",
    "a.append(\"orange\")\n",
    "print (a)\n",
    "a.remove(\"orange\")\n",
    "print (a)\n",
    "a.append(\"apple\")\n",
    "print (a)\n",
    "#list loop\n",
    "for e in a:\n",
    "    print (e)\n",
    "\n"
   ]
  },
  {
   "cell_type": "code",
   "execution_count": 183,
   "metadata": {},
   "outputs": [
    {
     "name": "stdout",
     "output_type": "stream",
     "text": [
      "[5, 5, 5, 5]\n"
     ]
    }
   ],
   "source": [
    "#list comprehension\n",
    "newlist = []\n",
    "\n",
    "for f in a:\n",
    "  if \"a\" in f:\n",
    "    newlist.append(x)\n",
    "\n",
    "print(newlist)"
   ]
  },
  {
   "cell_type": "code",
   "execution_count": 184,
   "metadata": {},
   "outputs": [
    {
     "name": "stdout",
     "output_type": "stream",
     "text": [
      "['apple', 'apple', 'mangoes', 'pineapple']\n"
     ]
    }
   ],
   "source": [
    "#sorting\n",
    "a.sort()\n",
    "print (a)"
   ]
  },
  {
   "cell_type": "code",
   "execution_count": 185,
   "metadata": {},
   "outputs": [
    {
     "name": "stdout",
     "output_type": "stream",
     "text": [
      "['apple', 'apple', 'mangoes', 'pineapple', 'a', 'b', 'c', 'd', 'e']\n"
     ]
    }
   ],
   "source": [
    "#joinlist\n",
    "v=[\"a\",\"b\",\"c\",\"d\",\"e\"]\n",
    "av= a+v\n",
    "print (av)"
   ]
  },
  {
   "cell_type": "code",
   "execution_count": 186,
   "metadata": {},
   "outputs": [
    {
     "name": "stdout",
     "output_type": "stream",
     "text": [
      "('apple', 'banana', 'cherry')\n",
      "apple\n",
      "('apple', 'banana', 'cherry')\n"
     ]
    }
   ],
   "source": [
    "#tuples\n",
    "print (b)\n",
    "print (b[0])\n",
    "\n",
    "#update tuple\n",
    "t = list(b)\n",
    "t[1] = \"banana\"\n",
    "b = tuple(t)\n",
    "print(b)"
   ]
  },
  {
   "cell_type": "code",
   "execution_count": 187,
   "metadata": {},
   "outputs": [
    {
     "name": "stdout",
     "output_type": "stream",
     "text": [
      "('apple', 'banana', 'cherry', '1', '2', '3')\n"
     ]
    }
   ],
   "source": [
    "#join tupples\n",
    "tuplejoin= b+d\n",
    "print(tuplejoin)"
   ]
  },
  {
   "cell_type": "code",
   "execution_count": 219,
   "metadata": {},
   "outputs": [],
   "source": [
    "# Variables\n",
    "name = \"John Smith\"\n",
    "age = 50\n",
    "is_student = True # boolean\n"
   ]
  },
  {
   "cell_type": "code",
   "execution_count": 220,
   "metadata": {},
   "outputs": [
    {
     "name": "stdout",
     "output_type": "stream",
     "text": [
      "pineapple\n"
     ]
    }
   ],
   "source": [
    "print (x)"
   ]
  },
  {
   "cell_type": "code",
   "execution_count": 221,
   "metadata": {},
   "outputs": [
    {
     "ename": "TypeError",
     "evalue": "can only concatenate str (not \"float\") to str",
     "output_type": "error",
     "traceback": [
      "\u001b[1;31m---------------------------------------------------------------------------\u001b[0m",
      "\u001b[1;31mTypeError\u001b[0m                                 Traceback (most recent call last)",
      "\u001b[1;32m<ipython-input-221-3dc29556f528>\u001b[0m in \u001b[0;36m<module>\u001b[1;34m\u001b[0m\n\u001b[0;32m      1\u001b[0m \u001b[1;31m# Operators\u001b[0m\u001b[1;33m\u001b[0m\u001b[1;33m\u001b[0m\u001b[1;33m\u001b[0m\u001b[0m\n\u001b[1;32m----> 2\u001b[1;33m \u001b[0mresult\u001b[0m \u001b[1;33m=\u001b[0m \u001b[0mx\u001b[0m \u001b[1;33m+\u001b[0m \u001b[0my\u001b[0m  \u001b[1;31m# addition\u001b[0m\u001b[1;33m\u001b[0m\u001b[1;33m\u001b[0m\u001b[0m\n\u001b[0m\u001b[0;32m      3\u001b[0m \u001b[0mresult2\u001b[0m \u001b[1;33m=\u001b[0m \u001b[0mx\u001b[0m \u001b[1;33m-\u001b[0m \u001b[0my\u001b[0m  \u001b[1;31m# subtraction\u001b[0m\u001b[1;33m\u001b[0m\u001b[1;33m\u001b[0m\u001b[0m\n\u001b[0;32m      4\u001b[0m \u001b[0mresult3\u001b[0m \u001b[1;33m=\u001b[0m \u001b[0mx\u001b[0m \u001b[1;33m*\u001b[0m \u001b[0my\u001b[0m  \u001b[1;31m# multiplication\u001b[0m\u001b[1;33m\u001b[0m\u001b[1;33m\u001b[0m\u001b[0m\n\u001b[0;32m      5\u001b[0m \u001b[0mresult4\u001b[0m \u001b[1;33m=\u001b[0m \u001b[0mx\u001b[0m \u001b[1;33m/\u001b[0m \u001b[0my\u001b[0m  \u001b[1;31m# division\u001b[0m\u001b[1;33m\u001b[0m\u001b[1;33m\u001b[0m\u001b[0m\n",
      "\u001b[1;31mTypeError\u001b[0m: can only concatenate str (not \"float\") to str"
     ]
    }
   ],
   "source": [
    "# Operators\n",
    "result = x + y  # addition\n",
    "result2 = x - y  # subtraction\n",
    "result3 = x * y  # multiplication\n",
    "result4 = x / y  # division\n",
    "result5 = x ** 2  # exponentiation\n",
    "result6 = x % 2  # modulus\n",
    "\n"
   ]
  },
  {
   "cell_type": "code",
   "execution_count": 222,
   "metadata": {},
   "outputs": [
    {
     "name": "stdout",
     "output_type": "stream",
     "text": [
      "8.14\n"
     ]
    }
   ],
   "source": [
    "print (result)"
   ]
  },
  {
   "cell_type": "code",
   "execution_count": 223,
   "metadata": {},
   "outputs": [
    {
     "name": "stdout",
     "output_type": "stream",
     "text": [
      "1.8599999999999999\n",
      "15.700000000000001\n",
      "1.592356687898089\n",
      "25\n",
      "1\n"
     ]
    }
   ],
   "source": [
    "print (result2)\n",
    "print (result3)\n",
    "print (result4)\n",
    "print (result5)\n",
    "print (result6)"
   ]
  },
  {
   "cell_type": "code",
   "execution_count": 224,
   "metadata": {},
   "outputs": [
    {
     "name": "stdout",
     "output_type": "stream",
     "text": [
      "John Smith is an adult.\n"
     ]
    }
   ],
   "source": [
    "# Control Flow\n",
    "if age > 18:\n",
    "    print(name, \"is an adult.\")\n",
    "elif age == 18:\n",
    "    print(name, \"is just turned adult.\")\n",
    "else:\n",
    "    print(name, \"is a minor.\")\n",
    "    \n"
   ]
  },
  {
   "cell_type": "code",
   "execution_count": 225,
   "metadata": {},
   "outputs": [
    {
     "name": "stdout",
     "output_type": "stream",
     "text": [
      "0\n",
      "1\n",
      "2\n",
      "3\n",
      "4\n",
      "5\n",
      "6\n",
      "7\n",
      "8\n",
      "9\n",
      "10\n",
      "11\n",
      "12\n",
      "13\n",
      "14\n",
      "15\n",
      "16\n",
      "17\n",
      "18\n",
      "19\n",
      "20\n",
      "21\n",
      "22\n",
      "23\n",
      "24\n",
      "25\n",
      "26\n",
      "27\n",
      "28\n",
      "29\n",
      "30\n",
      "31\n",
      "32\n",
      "33\n",
      "34\n",
      "35\n",
      "36\n",
      "37\n",
      "38\n",
      "39\n",
      "40\n",
      "41\n",
      "42\n",
      "43\n",
      "44\n",
      "45\n",
      "46\n",
      "47\n",
      "48\n",
      "49\n",
      "50\n",
      "51\n",
      "52\n",
      "53\n",
      "54\n",
      "55\n",
      "56\n",
      "57\n",
      "58\n",
      "59\n",
      "60\n",
      "61\n",
      "62\n",
      "63\n",
      "64\n",
      "65\n",
      "66\n",
      "67\n",
      "68\n",
      "69\n",
      "70\n",
      "71\n",
      "72\n",
      "73\n",
      "74\n",
      "75\n",
      "76\n",
      "77\n",
      "78\n",
      "79\n",
      "80\n",
      "81\n",
      "82\n",
      "83\n",
      "84\n",
      "85\n",
      "86\n",
      "87\n",
      "88\n",
      "89\n",
      "90\n",
      "91\n",
      "92\n",
      "93\n",
      "94\n",
      "95\n",
      "96\n",
      "97\n",
      "98\n",
      "99\n",
      "100\n",
      "apple\n",
      "apple\n",
      "mangoes\n",
      "pineapple\n",
      "0\n",
      "1\n",
      "2\n",
      "3\n",
      "4\n",
      "5\n"
     ]
    }
   ],
   "source": [
    "# Loops\n",
    "# For loop\n",
    "for i in range(101):\n",
    "    print(i)\n",
    "\n",
    "# For loop with list\n",
    "for x in a:\n",
    "    print(x)\n",
    "\n",
    "# While Loop\n",
    "count = 0\n",
    "while count < 6:\n",
    "    print(count)\n",
    "    count += 1\n",
    "    \n"
   ]
  },
  {
   "cell_type": "code",
   "execution_count": 244,
   "metadata": {},
   "outputs": [
    {
     "name": "stdout",
     "output_type": "stream",
     "text": [
      "50\n"
     ]
    }
   ],
   "source": [
    "print (age)"
   ]
  },
  {
   "cell_type": "code",
   "execution_count": 251,
   "metadata": {},
   "outputs": [
    {
     "name": "stdout",
     "output_type": "stream",
     "text": [
      "Access granted.\n"
     ]
    }
   ],
   "source": [
    "# Conditional operator \n",
    "print(\"Access granted.\") if age >= 18 else print(\"Access denied.\")\n",
    "\n"
   ]
  },
  {
   "cell_type": "code",
   "execution_count": 275,
   "metadata": {
    "scrolled": false
   },
   "outputs": [
    {
     "name": "stdout",
     "output_type": "stream",
     "text": [
      "21\n"
     ]
    }
   ],
   "source": [
    "#fucntions\n",
    "def add_numbers(x, y,z,w):\n",
    "    return x + y + z + w\n",
    "\n",
    "print(add_numbers(3, 5,6,7))\n",
    "\n"
   ]
  },
  {
   "cell_type": "code",
   "execution_count": 314,
   "metadata": {},
   "outputs": [
    {
     "name": "stdout",
     "output_type": "stream",
     "text": [
      "arslan 25\n"
     ]
    }
   ],
   "source": [
    "# Functions\n",
    "def person(name, age):\n",
    "  print(name , age)\n",
    "\n",
    "person(\"arslan\", \"25\")"
   ]
  },
  {
   "cell_type": "code",
   "execution_count": 315,
   "metadata": {},
   "outputs": [
    {
     "name": "stdout",
     "output_type": "stream",
     "text": [
      "sum is: 200\n"
     ]
    }
   ],
   "source": [
    "#functions\n",
    "def add_n(num1,num2):\n",
    "    sum=num1+num2\n",
    "    return sum\n",
    "result=add_n(100,100)\n",
    "print ('sum is:',result)\n"
   ]
  },
  {
   "cell_type": "code",
   "execution_count": 383,
   "metadata": {},
   "outputs": [
    {
     "name": "stdout",
     "output_type": "stream",
     "text": [
      "I am from AUSTRALIA\n",
      "I am from CANADA\n",
      "I am from USA\n",
      "I am from BRAZIL\n",
      "I am from PAKISTAN\n",
      "I am from PAKISTAN\n"
     ]
    }
   ],
   "source": [
    "#functions\n",
    "def my_info(country = \"PAKISTAN\"):\n",
    "  print(\"I am from \" + country)\n",
    "\n",
    "my_info(\"AUSTRALIA\")\n",
    "my_info(\"CANADA\")\n",
    "my_info(\"USA\")\n",
    "my_info(\"BRAZIL\")\n",
    "my_info()\n",
    "my_info()"
   ]
  },
  {
   "cell_type": "code",
   "execution_count": 384,
   "metadata": {},
   "outputs": [
    {
     "name": "stdout",
     "output_type": "stream",
     "text": [
      "5\n"
     ]
    }
   ],
   "source": [
    "#class\n",
    "class MyClass:\n",
    "  u = 5\n",
    "\n",
    "p1 = MyClass()\n",
    "print(p1.u)\n"
   ]
  },
  {
   "cell_type": "code",
   "execution_count": 378,
   "metadata": {},
   "outputs": [],
   "source": [
    "#classes \n",
    "class Human:\n",
    "    def __init__(self,name,color,weight):\n",
    "        self.name=name\n",
    "        self.color=color\n",
    "        self.weight=weight\n",
    "    def introduce_self(self):\n",
    "        print(\"my name is \" +self.name)\n",
    "        print(\"my color is \" +self.color)\n",
    "        print(\"my weight is \" +self.weight)\n",
    "        \n"
   ]
  },
  {
   "cell_type": "code",
   "execution_count": 379,
   "metadata": {},
   "outputs": [],
   "source": [
    "    arslan=Human(\"arslan\",\"white\",\"67\")\n",
    "    moneeb=Human(\"moneeb\",\"white\",\"75\")\n",
    "    dryasir=Human(\"DrYasir\",\"white\",\"85\")\n",
    "    ismail=Human(\"ismail\",\"white\",\"60\")\n"
   ]
  },
  {
   "cell_type": "code",
   "execution_count": 380,
   "metadata": {},
   "outputs": [
    {
     "name": "stdout",
     "output_type": "stream",
     "text": [
      "my name is arslan\n",
      "my color is white\n",
      "my weight is 67\n"
     ]
    }
   ],
   "source": [
    "    arslan.introduce_self()"
   ]
  },
  {
   "cell_type": "code",
   "execution_count": 381,
   "metadata": {},
   "outputs": [
    {
     "name": "stdout",
     "output_type": "stream",
     "text": [
      "my name is moneeb\n",
      "my color is white\n",
      "my weight is 75\n"
     ]
    }
   ],
   "source": [
    "    moneeb.introduce_self()"
   ]
  },
  {
   "cell_type": "code",
   "execution_count": 382,
   "metadata": {},
   "outputs": [
    {
     "name": "stdout",
     "output_type": "stream",
     "text": [
      "Hello, my name is John\n"
     ]
    }
   ],
   "source": [
    "# Classes\n",
    "class Person:\n",
    "    def __init__(self, name, age):\n",
    "        self.name = name\n",
    "        self.age = age\n",
    "        \n",
    "    def say_hello(self):\n",
    "        print(\"Hello, my name is \" + self.name)\n",
    "        \n",
    "p1 = Person(\"John\", 30)\n",
    "p1.say_hello()"
   ]
  },
  {
   "cell_type": "code",
   "execution_count": null,
   "metadata": {},
   "outputs": [],
   "source": []
  },
  {
   "cell_type": "code",
   "execution_count": null,
   "metadata": {},
   "outputs": [],
   "source": []
  }
 ],
 "metadata": {
  "kernelspec": {
   "display_name": "Python 3",
   "language": "python",
   "name": "python3"
  },
  "language_info": {
   "codemirror_mode": {
    "name": "ipython",
    "version": 3
   },
   "file_extension": ".py",
   "mimetype": "text/x-python",
   "name": "python",
   "nbconvert_exporter": "python",
   "pygments_lexer": "ipython3",
   "version": "3.7.4"
  }
 },
 "nbformat": 4,
 "nbformat_minor": 5
}
